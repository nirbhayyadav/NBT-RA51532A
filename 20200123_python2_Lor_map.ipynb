{
 "cells": [
  {
   "cell_type": "code",
   "execution_count": 1,
   "metadata": {},
   "outputs": [],
   "source": [
    "# load libraries\n",
    "from pylab import *\n",
    "import nylib, amlib\n",
    "import pandas as pd\n",
    "import numpy as np\n",
    "import scipy\n"
   ]
  },
  {
   "cell_type": "markdown",
   "metadata": {},
   "source": [
    "## Load data"
   ]
  },
  {
   "cell_type": "code",
   "execution_count": 2,
   "metadata": {},
   "outputs": [],
   "source": [
    "dataPath = './37C_multipower_data'\n",
    "field500 = float(nylib.BrukerPar('%s/12'%dataPath, 'acqp','SFO1') )"
   ]
  },
  {
   "cell_type": "markdown",
   "metadata": {},
   "source": [
    "## Generate WASSR Map"
   ]
  },
  {
   "cell_type": "code",
   "execution_count": 3,
   "metadata": {},
   "outputs": [
    {
     "name": "stdout",
     "output_type": "stream",
     "text": [
      "(61, 1, 1, 64, 64)\n"
     ]
    },
    {
     "data": {
      "image/png": "[encoded data removed]",
      "text/plain": [
       "<Figure size 432x288 with 2 Axes>"
      ]
     },
     "metadata": {
      "needs_background": "light"
     },
     "output_type": "display_data"
    }
   ],
   "source": [
    "tubeMask, wassr_map = amlib.wassrProcessing('%s/%d'%(dataPath, 12), maskthreshold=200)\n",
    "imshow(wassr_map)\n",
    "colorbar()\n",
    "jet()\n",
    "clim(-0.1, 0.2)"
   ]
  },
  {
   "cell_type": "markdown",
   "metadata": {},
   "source": [
    "## Load multi-B1 data and correct for B0 using WASSR Map"
   ]
  },
  {
   "cell_type": "code",
   "execution_count": 4,
   "metadata": {},
   "outputs": [
    {
     "name": "stdout",
     "output_type": "stream",
     "text": [
      "(131, 1, 1, 64, 64)\n",
      "(131, 1, 1, 64, 64)\n",
      "(131, 1, 1, 64, 64)\n",
      "(131, 1, 1, 64, 64)\n",
      "(131, 1, 1, 64, 64)\n",
      "(131, 1, 1, 64, 64)\n",
      "(131, 1, 1, 64, 64)\n"
     ]
    }
   ],
   "source": [
    "expNumbers = r_[12, 10, 13, 14, 15, 22, 16, 17]\n",
    "\n",
    "cestData, cestFreq = amlib.loadMultiData(dataPath, expNumbers[1:-1])\n",
    "cestData_corrected = amlib.correctedData(cestFreq, cestData, tubeMask==0, wassr_map)"
   ]
  },
  {
   "cell_type": "code",
   "execution_count": null,
   "metadata": {},
   "outputs": [],
   "source": [
    "# Normalize data\n",
    "lor_map = zeros((9, cestData_corrected.shape[0], cestData_corrected.shape[-2], cestData_corrected.shape[-1]))\n",
    "for ik in range(cestData_corrected.shape[0]):\n",
    "    for ii in range(cestData_corrected.shape[-2]):\n",
    "        for ij in range(cestData_corrected.shape[-1]):\n",
    "            if tubeMask[ii,  ij]!=0:\n",
    "                continue\n",
    "            lor_map[:, ik, ii, ij] = amlib.cestFit_2(cestFreq, scipy.ndimage.median_filter(cestData_corrected[ik, :, ii, ij], size=5))\n"
   ]
  },
  {
   "cell_type": "markdown",
   "metadata": {},
   "source": [
    "### Generate masks for plotting"
   ]
  },
  {
   "cell_type": "code",
   "execution_count": null,
   "metadata": {},
   "outputs": [],
   "source": [
    "import scipy\n",
    "\n",
    "test = (lor_map[5, 5] > 0.004)\n",
    "test2 = scipy.ndimage.median_filter( test, size=3)\n",
    "\n",
    "figure(figsize=(6,6))\n",
    "imshow(test2)"
   ]
  },
  {
   "cell_type": "code",
   "execution_count": null,
   "metadata": {},
   "outputs": [],
   "source": [
    "# Obtain frequency distribution of the peak\n",
    "masked_array = ma.array(lor_map[6,5], mask=logical_not(test2))\n",
    "figure(2)\n",
    "clf()\n",
    "imshow(cestData[0,0], cmap='gray')\n",
    "imshow(masked_array, cmap='jet', interpolation='nearest')\n",
    "ax = gcf().add_axes([0.85, 0.2, 0.04, 0.6])\n",
    "cb = colorbar(cax=ax, orientation='vertical')\n",
    "# clim(0., 20.)\n",
    "# cb.set_ticks([0., 4. ,8. ,12., 16., 20.])\n",
    "# cb.set_label('$\\mathrm{MTR_{asym} \\/(\\%)}$', fontsize=18)\n",
    "figure(2).canvas.draw()"
   ]
  },
  {
   "cell_type": "markdown",
   "metadata": {},
   "source": [
    "### 7.2 uT"
   ]
  },
  {
   "cell_type": "code",
   "execution_count": null,
   "metadata": {},
   "outputs": [],
   "source": [
    "import matplotlib.pyplot as plt\n",
    "import numpy as np\n",
    "from numpy.ma import masked_array\n",
    "\n",
    "v1 = lor_map[6,5]\n",
    "v1a = masked_array(lor_map[5,5],v1<5.4)\n",
    "v1b = masked_array(lor_map[5,5],v1>=5.4)\n",
    "\n",
    "masked_array_a = ma.array(v1a, mask=logical_not(test2))\n",
    "masked_array_b = ma.array(v1b, mask=logical_not(test2))\n",
    "\n",
    "\n",
    "# create custom colour maps\n",
    "from matplotlib.colors import LinearSegmentedColormap\n",
    "cmap_5MDHT = LinearSegmentedColormap.from_list('cmap_5MDHT', ['black', '#F20061'])\n",
    "cmap_pdC = LinearSegmentedColormap.from_list('cmap_pdC', ['black', '#28CD41'])\n",
    "\n",
    "cmap_null= LinearSegmentedColormap.from_list('cmap_null', ['black', 'black'])\n",
    "\n",
    "\n",
    "fig,ax = plt.subplots()\n",
    "ax.imshow(cestData[0,0], cmap=cmap_null)\n",
    "\n",
    "pa_pdC = ax.imshow(masked_array_a,interpolation='nearest',vmin=0, vmax=0.1, cmap=cmap_pdC)\n",
    "cb_pdC = plt.colorbar(pa_pdC,shrink=1.0)\n",
    "\n",
    "pa_5MDHT = ax.imshow(masked_array_b,interpolation='nearest',vmin=0, vmax=0.1 ,cmap=cmap_5MDHT)\n",
    "cb_5MDHT = plt.colorbar(pa_5MDHT,shrink=1.0)\n",
    "\n",
    "cb_pdC.set_label('pdC')\n",
    "cb_5MDHT.set_label('5-MDHT')\n",
    "# fig.savefig('map_7pt2uT.eps', dpi=300)"
   ]
  },
  {
   "cell_type": "code",
   "execution_count": null,
   "metadata": {},
   "outputs": [],
   "source": [
    "v1a = masked_array(lor_map[6,5],v1<5.4)\n",
    "v1b = masked_array(lor_map[6,5],v1>=5.4)\n",
    "\n",
    "masked_array_a = ma.array(v1a, mask=logical_not(test2))\n",
    "masked_array_b = ma.array(v1b, mask=logical_not(test2))\n",
    "\n",
    "\n",
    "# create custom colour maps\n",
    "from matplotlib.colors import LinearSegmentedColormap\n",
    "cmap_5MDHT = LinearSegmentedColormap.from_list('cmap_5MDHT', ['black', '#F20061'])\n",
    "cmap_pdC = LinearSegmentedColormap.from_list('cmap_pdC', ['black', '#28CD41'])\n",
    "\n",
    "cmap_null= LinearSegmentedColormap.from_list('cmap_null', ['black', 'black'])\n",
    "\n",
    "\n",
    "fig,ax = plt.subplots()\n",
    "ax.imshow(cestData[0,0], cmap=cmap_null)\n",
    "\n",
    "# pa_pdC = ax.imshow(masked_array_a,interpolation='nearest',vmin=5.6, vmax=6.0, cmap=cmap_pdC)\n",
    "pa_pdC = ax.imshow(masked_array_a,interpolation='nearest', cmap=cmap_pdC)\n",
    "cb_pdC = plt.colorbar(pa_pdC,shrink=1.0)\n",
    "\n",
    "# pa_5MDHT = ax.imshow(masked_array_b,interpolation='nearest',vmin=4.7, vmax=5.2,cmap=cmap_5MDHT)\n",
    "pa_5MDHT = ax.imshow(masked_array_b,interpolation='nearest',cmap=cmap_5MDHT)\n",
    "cb_5MDHT = plt.colorbar(pa_5MDHT,shrink=1.0)\n",
    "\n",
    "cb_pdC.set_label('pdC')\n",
    "cb_5MDHT.set_label('5-MDHT')\n",
    "# fig.savefig('freq_map_7pt2uT.eps', dpi=300)"
   ]
  },
  {
   "cell_type": "code",
   "execution_count": null,
   "metadata": {},
   "outputs": [],
   "source": [
    "v1a = masked_array(lor_map[6,2],v1<5.4)\n",
    "v1b = masked_array(lor_map[6,2],v1>=5.4)\n",
    "\n",
    "masked_array_a = ma.array(v1a, mask=logical_not(test2))\n",
    "masked_array_b = ma.array(v1b, mask=logical_not(test2))\n",
    "\n",
    "\n",
    "# create custom colour maps\n",
    "from matplotlib.colors import LinearSegmentedColormap\n",
    "cmap_5MDHT = LinearSegmentedColormap.from_list('cmap_5MDHT', ['black', '#F20061'])\n",
    "cmap_pdC = LinearSegmentedColormap.from_list('cmap_pdC', ['black', '#28CD41'])\n",
    "\n",
    "cmap_null= LinearSegmentedColormap.from_list('cmap_null', ['black', 'black'])\n",
    "\n",
    "\n",
    "fig,ax = plt.subplots()\n",
    "ax.imshow(cestData[0,0], cmap=cmap_null)\n",
    "\n",
    "pa_pdC = ax.imshow(masked_array_a,interpolation='nearest',vmin=5.3, vmax=6.0, cmap=cmap_pdC)\n",
    "# pa_pdC = ax.imshow(masked_array_a,interpolation='nearest', cmap=cmap_pdC)\n",
    "cb_pdC = plt.colorbar(pa_pdC,shrink=1.0)\n",
    "\n",
    "pa_5MDHT = ax.imshow(masked_array_b,interpolation='nearest',vmin=4.5, vmax=5.2,cmap=cmap_5MDHT)\n",
    "# pa_5MDHT = ax.imshow(masked_array_b,interpolation='nearest',cmap=cmap_5MDHT)\n",
    "cb_5MDHT = plt.colorbar(pa_5MDHT,shrink=1.0)\n",
    "\n",
    "cb_pdC.set_label('pdC')\n",
    "cb_5MDHT.set_label('5-MDHT')\n",
    "# fig.savefig('freq_map_3pt6uT.eps', dpi=300)"
   ]
  },
  {
   "cell_type": "markdown",
   "metadata": {},
   "source": [
    "## Plot other maps"
   ]
  },
  {
   "cell_type": "code",
   "execution_count": null,
   "metadata": {},
   "outputs": [],
   "source": [
    "labels = ['1pt2uT', '2pt4uT', '3pt6uT', '4pt8uT', '5pt9uT', '7pt2uT']\n",
    "\n",
    "for ii in range(len(labels)):\n",
    "    v1a = masked_array(lor_map[5,ii],v1<5.4)\n",
    "    v1b = masked_array(lor_map[5,ii],v1>=5.4)\n",
    "    \n",
    "    masked_array_a = ma.array(v1a, mask=logical_not(test2))\n",
    "    masked_array_b = ma.array(v1b, mask=logical_not(test2))\n",
    "    \n",
    "    fig,ax = plt.subplots()\n",
    "    ax.imshow(cestData[0,0], cmap=cmap_null)\n",
    "\n",
    "    pa_pdC = ax.imshow(masked_array_a,interpolation='nearest',vmin=0, vmax=0.1, cmap=cmap_pdC)\n",
    "    cb_pdC = plt.colorbar(pa_pdC,shrink=1.0)\n",
    "\n",
    "    pa_5MDHT = ax.imshow(masked_array_b,interpolation='nearest',vmin=0, vmax=0.1 ,cmap=cmap_5MDHT)\n",
    "    cb_5MDHT = plt.colorbar(pa_5MDHT,shrink=1.0)\n",
    "\n",
    "    cb_pdC.set_label('pdC')\n",
    "    cb_5MDHT.set_label('5-MDHT')\n",
    "#     fig.savefig('map_%s.eps'%labels[ii], dpi=300)"
   ]
  },
  {
   "cell_type": "markdown",
   "metadata": {},
   "source": [
    "## Read roi data from excel and show sample Lorentzian fits"
   ]
  },
  {
   "cell_type": "code",
   "execution_count": null,
   "metadata": {},
   "outputs": [],
   "source": [
    "xl = pd.ExcelFile(\"%s/Multipower data for CEST spectral editing.xlsx\"%dataPath)\n",
    "# xl.sheet_names\n",
    "names = xl.sheet_names\n",
    "print(names)"
   ]
  },
  {
   "cell_type": "code",
   "execution_count": null,
   "metadata": {},
   "outputs": [],
   "source": [
    "df = xl.parse(\"1.2uT\", skiprows=0)\n",
    "test = transpose(df.values)\n",
    "cestFreq = test[0]"
   ]
  },
  {
   "cell_type": "code",
   "execution_count": null,
   "metadata": {},
   "outputs": [],
   "source": [
    "data = zeros((2, 4, 6, 101))\n",
    "data_asym = zeros((2, 4, 6, 50))\n",
    "for ii in range(data.shape[2]):\n",
    "    df_temp = xl.parse(\"%s\"%names[ii], skiprows=0)\n",
    "    data_temp = transpose(df_temp.values)\n",
    "    for ij in range(data.shape[1]):\n",
    "        data[0, ij, ii] = data_temp[2+ij*2]\n",
    "        data_asym[0, ij, ii] = (amlib.asymAnalysis(data[0, ij, ii], cestFreq))[1]\n",
    "        data[1, ij, ii] = data_temp[3+ij*2]\n",
    "        data_asym[1, ij, ii] = (amlib.asymAnalysis(data[1, ij, ii], cestFreq))[1]\n",
    "asym_ints = (amlib.asymAnalysis(data[0, 0, 0], cestFreq))[0]"
   ]
  },
  {
   "cell_type": "markdown",
   "metadata": {},
   "source": [
    "#### Raw data"
   ]
  },
  {
   "cell_type": "code",
   "execution_count": null,
   "metadata": {},
   "outputs": [],
   "source": [
    "from matplotlib import gridspec\n",
    "figure(11, figsize=(8, 12))\n",
    "gs1 = gridspec.GridSpec(4, 2)\n",
    "gs1.update(left=0.1, right=0.98, bottom = 0.1, top = 0.92, wspace=0.1, hspace = 0.1)\n",
    "\n",
    "for ii in range(data.shape[0]):\n",
    "    for ij in range(data.shape[1]):\n",
    "        axNum = subplot(gs1[ij, ii])\n",
    "        for ik in range(data.shape[2]):\n",
    "            plot(cestFreq, data[ii,ij,ik])\n",
    "            plot(cestFreq[asym_ints], data_asym[ii,ij,ik])\n",
    "        xlim(8., -8)\n",
    "        ylim(0., 1.)\n",
    "        grid('on')\n",
    "            "
   ]
  },
  {
   "cell_type": "markdown",
   "metadata": {},
   "source": [
    "#### Sample fits"
   ]
  },
  {
   "cell_type": "code",
   "execution_count": null,
   "metadata": {},
   "outputs": [],
   "source": [
    "# shape (number of compounds, number of concentrations, number of powers, number of parameters from each fit)\n",
    "lor_rois = zeros((data.shape[0], data.shape[1], data.shape[2], 9))\n",
    "\n",
    "for ii in range(lor_rois.shape[0]):\n",
    "    for ij in range(lor_rois.shape[1]):\n",
    "        for ik in range(lor_rois.shape[2]):\n",
    "            lor_rois[ii, ij, ik] = amlib.cestFit_2(cestFreq, data[ii, ij, ik])"
   ]
  },
  {
   "cell_type": "code",
   "execution_count": null,
   "metadata": {},
   "outputs": [],
   "source": [
    "def plotFit(ax, freq, data, fitParameters):\n",
    "    fitinds = np.where( (freq > 3.) * (freq < 8.) )[0]\n",
    "    plotFreq = linspace(freq[fitinds].min(), freq[fitinds].max(), 101)\n",
    "    \n",
    "    def lorentzian(freq, A, x0, w, b, k, A_p, x0_p, w_p, k_p):\n",
    "            tt = A * (1 - (w**2 / (k * (w**2 + (x0-freq)**2)))) + A_p * (1 - (w_p**2 / (k_p * (w_p**2 + (x0_p-freq)**2)))) + b\n",
    "            tt[nonzero(tt < 0)] = 0\n",
    "            return tt\n",
    "    \n",
    "    line = lorentzian(plotFreq,  fitParameters[0], fitParameters[1], fitParameters[2], fitParameters[3],\n",
    "                      fitParameters[4], fitParameters[5], fitParameters[6], fitParameters[7],\n",
    "                      fitParameters[8])\n",
    "    \n",
    "\n",
    "    ax.plot(freq[fitinds], data[fitinds], 'bo')\n",
    "    ax.plot(plotFreq, line, 'r-')\n",
    "    grid('on')"
   ]
  },
  {
   "cell_type": "code",
   "execution_count": null,
   "metadata": {},
   "outputs": [],
   "source": [
    "figure(11, figsize=(12, 20))\n",
    "gs1 = gridspec.GridSpec(4, 2)\n",
    "gs1.update(left=0.1, right=0.98, bottom = 0.1, top = 0.92, wspace=0.1, hspace = 0.1)\n",
    "for ii in range(data.shape[0]):\n",
    "    for ij in range(data.shape[1]):\n",
    "        axNum = subplot(gs1[ij, ii])\n",
    "        for ik in range(data.shape[2]):\n",
    "            plotFit(axNum, cestFreq, data[ii,ij,ik], lor_rois[ii, ij, ik])\n",
    "    "
   ]
  },
  {
   "cell_type": "code",
   "execution_count": null,
   "metadata": {},
   "outputs": [],
   "source": []
  },
  {
   "cell_type": "code",
   "execution_count": null,
   "metadata": {},
   "outputs": [],
   "source": []
  }
 ],
 "metadata": {
  "kernelspec": {
   "display_name": "Python 2",
   "language": "python",
   "name": "python2"
  },
  "language_info": {
   "codemirror_mode": {
    "name": "ipython",
    "version": 2
   },
   "file_extension": ".py",
   "mimetype": "text/x-python",
   "name": "python",
   "nbconvert_exporter": "python",
   "pygments_lexer": "ipython2",
   "version": "2.7.16"
  }
 },
 "nbformat": 4,
 "nbformat_minor": 2
}
